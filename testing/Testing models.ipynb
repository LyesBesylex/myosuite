{
 "cells": [
  {
   "cell_type": "markdown",
   "metadata": {},
   "source": [
    "### This code allows the manipulation of myosuite models based on tasks."
   ]
  },
  {
   "cell_type": "code",
   "execution_count": 2,
   "metadata": {},
   "outputs": [],
   "source": [
    "import myosuite\n",
    "import gym\n",
    "import imageio\n",
    "import numpy as np\n",
    "import os\n",
    "import tqdm\n"
   ]
  },
  {
   "cell_type": "code",
   "execution_count": 3,
   "metadata": {},
   "outputs": [],
   "source": [
    "from IPython.display import HTML\n",
    "from base64 import b64encode\n",
    " \n",
    "def show_video(video_path, video_width = 400):\n",
    "   \n",
    "  video_file = open(video_path, \"r+b\").read()\n",
    " \n",
    "  video_url = f\"data:video/mp4;base64,{b64encode(video_file).decode()}\"\n",
    "  return HTML(f\"\"\"\"\"\")"
   ]
  },
  {
   "cell_type": "markdown",
   "metadata": {},
   "source": [
    "### <b>ReachV0</b>"
   ]
  },
  {
   "cell_type": "markdown",
   "metadata": {},
   "source": [
    "### Display the environment in MuJoCo"
   ]
  },
  {
   "cell_type": "code",
   "execution_count": 1,
   "metadata": {},
   "outputs": [
    {
     "name": "stdout",
     "output_type": "stream",
     "text": [
      "MyoSuite:> Registering Myo Envs\n",
      "\u001b[36m    MyoSuite: A contact-rich simulation suite for musculoskeletal motor control\n",
      "        Vittorio Caggiano, Huawei Wang, Guillaume Durandau, Massimo Sartori, Vikash Kumar\n",
      "        L4DC-2019 | https://sites.google.com/view/myosuite\n",
      "    \u001b[0m\n",
      "Episode: 0 of 5\n",
      "[ 0.0109 -0.1395 -0.0177]\n",
      "[ 0.0109 -0.1395 -0.0177]\n",
      "[ 0.0109 -0.1395 -0.0177]\n",
      "[-0.1391 -0.1395 -0.0177]\n",
      "[-0.1891 -0.0395 -0.0177]\n",
      "[ 0.1109  0.0605 -0.0177]\n",
      "[ 0.1609 -0.0395 -0.0177]\n",
      "[ 0.0109  0.1605 -0.0177]\n",
      "[-0.1391  0.0605 -0.0177]\n",
      "[-0.1391 -0.1395 -0.0177]\n",
      "[-0.1391  0.0605 -0.0177]\n",
      "[ 0.0109  0.1605 -0.0177]\n",
      "[ 0.0109 -0.1395 -0.0177]\n",
      "[-0.1391  0.0605 -0.0177]\n",
      "[ 0.0109  0.1605 -0.0177]\n",
      "[-0.1391  0.0605 -0.0177]\n",
      "[ 0.0109  0.1605 -0.0177]\n",
      "[ 0.1609 -0.0395 -0.0177]\n",
      "[ 0.1109 -0.1395 -0.0177]\n",
      "[ 0.1109 -0.1395 -0.0177]\n",
      "[ 0.1109  0.0605 -0.0177]\n",
      "[ 0.0109 -0.1395 -0.0177]\n",
      "[ 0.1109  0.0605 -0.0177]\n",
      "[ 0.1109 -0.1395 -0.0177]\n",
      "[ 0.0109  0.1605 -0.0177]\n",
      "[ 0.1609 -0.0395 -0.0177]\n",
      "[ 0.0109 -0.1395 -0.0177]\n",
      "[ 0.0109 -0.1395 -0.0177]\n",
      "[ 0.0109 -0.1395 -0.0177]\n",
      "[ 0.1109 -0.1395 -0.0177]\n",
      "[ 0.1109  0.0605 -0.0177]\n",
      "[-0.1391 -0.1395 -0.0177]\n",
      "[ 0.1109  0.0605 -0.0177]\n",
      "[ 0.0109 -0.1395 -0.0177]\n",
      "[ 0.1109  0.0605 -0.0177]\n"
     ]
    },
    {
     "ename": "KeyboardInterrupt",
     "evalue": "",
     "output_type": "error",
     "traceback": [
      "\u001b[1;31m---------------------------------------------------------------------------\u001b[0m",
      "\u001b[1;31mKeyboardInterrupt\u001b[0m                         Traceback (most recent call last)",
      "Cell \u001b[1;32mIn[1], line 22\u001b[0m\n\u001b[0;32m     14\u001b[0m \u001b[38;5;28;01mwhile\u001b[39;00m \u001b[38;5;28;01mTrue\u001b[39;00m:\n\u001b[0;32m     15\u001b[0m     \u001b[38;5;66;03m#print(\"object: \", env.obs_dict['obj_pos'])\u001b[39;00m\n\u001b[0;32m     16\u001b[0m     \u001b[38;5;66;03m#print(\"palm: \", env.obs_dict['palm_pos'])\u001b[39;00m\n\u001b[1;32m   (...)\u001b[0m\n\u001b[0;32m     19\u001b[0m     \u001b[38;5;66;03m#print(\"reach: \", env.obs_dict['reach_err'])\u001b[39;00m\n\u001b[0;32m     20\u001b[0m     \u001b[38;5;66;03m#print(env.sim.data.site_xpos[env.object_sid])\u001b[39;00m\n\u001b[0;32m     21\u001b[0m     \u001b[38;5;28;01mfor\u001b[39;00m l \u001b[38;5;129;01min\u001b[39;00m \u001b[38;5;28mrange\u001b[39m(\u001b[38;5;241m1\u001b[39m):\n\u001b[1;32m---> 22\u001b[0m         \u001b[43mtime\u001b[49m\u001b[38;5;241;43m.\u001b[39;49m\u001b[43msleep\u001b[49m\u001b[43m(\u001b[49m\u001b[38;5;241;43m0.5\u001b[39;49m\u001b[43m)\u001b[49m\n\u001b[0;32m     23\u001b[0m         \u001b[38;5;28mprint\u001b[39m(env\u001b[38;5;241m.\u001b[39mobs_dict[\u001b[38;5;124m'\u001b[39m\u001b[38;5;124mreach_err\u001b[39m\u001b[38;5;124m'\u001b[39m])\n\u001b[0;32m     24\u001b[0m         action \u001b[38;5;241m=\u001b[39m env\u001b[38;5;241m.\u001b[39maction_space\u001b[38;5;241m.\u001b[39msample()\n",
      "\u001b[1;31mKeyboardInterrupt\u001b[0m: "
     ]
    }
   ],
   "source": [
    "import gym\n",
    "import myosuite \n",
    "import time\n",
    "\n",
    "#CenterReachOut-v0\n",
    "#myoChallengeRelocateP1-v0\n",
    "\n",
    "\n",
    "env = gym.make('CenterReachOut-v0')\n",
    "env.reset()\n",
    "    \n",
    "for ep in range(1000):\n",
    "    print(f'Episode: {ep} of 5')\n",
    "    while True:\n",
    "        #print(\"object: \", env.obs_dict['obj_pos'])\n",
    "        #print(\"palm: \", env.obs_dict['palm_pos'])\n",
    "        #print(\"qpos: \", env.obs_dict['hand_qpos'])\n",
    "        #print(\"qvel: \", env.obs_dict['hand_qvel'])\n",
    "        #print(\"reach: \", env.obs_dict['reach_err'])\n",
    "        #print(env.sim.data.site_xpos[env.object_sid])\n",
    "        for l in range(1):\n",
    "            time.sleep(0.5)\n",
    "            print(env.obs_dict['reach_err'])\n",
    "            action = env.action_space.sample()\n",
    "            # uncomment if you want to render the task\n",
    "            env.mj_render()\n",
    "            next_state, reward, done, info = env.step(action)\n",
    "            state = next_state\n",
    "        env.reset()\n",
    "        if done: \n",
    "            break"
   ]
  },
  {
   "cell_type": "code",
   "execution_count": null,
   "metadata": {},
   "outputs": [],
   "source": [
    ")\n",
    "            print(env.get_reward_dict(env.obs_dict))\n",
    "            action = env.action_space.sample()\n",
    "            # uncomment if you want to render the task\n",
    "            env.mj_render()\n",
    "            next_state, reward, done, info = env.step(action)\n",
    "            state = next_state\n",
    "        env.reset()\n",
    "        if done: \n",
    "            break"
   ]
  },
  {
   "cell_type": "code",
   "execution_count": null,
   "metadata": {},
   "outputs": [
    {
     "name": "stdout",
     "output_type": "stream",
     "text": [
      "Observation dimension 169\n",
      "Observation values: [-7.5936e-01  3.2282e-01 -3.2257e-01  7.5942e-01 -1.5329e-01  1.2439e+00\n",
      "  5.6019e-01 -5.6047e-01 -1.2432e+00  1.5310e-01  3.9137e-01  3.1433e+00\n",
      " -3.9133e-01 -7.1712e-01 -4.2369e-03  3.4175e-02  3.7265e-01  8.1219e-01\n",
      " -5.4255e-01 -8.0604e-01  3.0218e-01 -1.3228e+00  1.6228e+00  2.5408e-01\n",
      "  1.5874e+00  1.5811e+00  1.6226e+00  1.6407e-01  1.6151e+00  4.9521e-02\n",
      "  1.3341e+00  2.6774e-01  1.4316e+00 -1.3600e-02  2.8641e-01 -2.6771e-01\n",
      " -3.4444e-02 -2.4034e-02 -5.3941e-04 -9.4007e-05  9.5322e-05  5.3448e-04\n",
      " -2.9152e-04  7.7956e-05 -6.9185e-04  7.2854e-04 -9.3400e-05  3.0101e-04\n",
      " -9.2296e-03  2.3119e-05  9.2024e-03 -1.5195e-02 -1.4808e-03  1.7162e-02\n",
      "  2.0969e-02 -2.6229e-03 -6.5672e-03 -9.6148e-03 -3.4396e-02 -2.1466e-02\n",
      "  9.2915e-03  1.1400e-02  7.2842e-03  3.0352e-03  2.6765e-03  5.3728e-03\n",
      "  3.4624e-04 -7.0408e-05  8.0022e-03 -4.2585e-03  2.4337e-02  1.0154e-02\n",
      " -2.5587e-02  4.1683e-03 -5.3835e-03 -2.2840e-03 -6.5794e-02  3.4883e-02\n",
      "  6.6223e-01  3.2261e-01 -1.3275e-01  3.2581e-02  5.9734e-01 -1.2741e-01\n",
      "  7.8420e-01  2.8781e-01  2.2582e-01  1.1911e+00  3.5109e-01  3.8782e-01\n",
      "  2.8809e-01 -9.9206e-02 -5.7188e-01  8.3277e-01 -4.7863e-01 -4.1260e-01\n",
      "  1.4242e+00 -7.6174e-01 -4.1737e-01  6.6353e-01 -4.4143e-01 -7.6316e-01\n",
      "  2.7821e-01 -5.1345e-01 -9.1752e-01  1.1832e+00  7.4436e-01  6.8460e-01\n",
      "  6.6833e-01  2.0656e-01  2.1004e-01  4.1982e-01  4.4342e-01  2.8432e-01\n",
      "  2.7950e-01  2.5398e-01  1.0778e-01  3.9084e-01  6.7777e-01  4.2582e-01\n",
      "  3.6528e-01  5.0364e-02  3.0256e-01  8.4803e-01  2.2112e-01  2.7949e-01\n",
      "  6.9426e-01  2.6039e-01  7.7287e-02  3.0913e-01  6.8939e-01  4.4932e-02\n",
      "  6.4820e-01  6.9194e-02  1.9198e-01  1.6021e-01  7.9279e-01  1.9907e-01\n",
      "  3.5893e-01  2.5387e-01  3.1687e-01  7.7333e-01  7.4272e-01  5.4344e-01\n",
      "  3.6277e-01  5.7243e-01  6.9702e-01  1.4587e-01  3.6830e-01  2.6365e-01\n",
      "  2.4181e-01  8.4351e-02  7.8382e-01  7.5502e-01  7.2773e-01  4.8483e-01\n",
      "  7.6343e-01  6.1407e-01  6.3190e-01  1.3859e-01  2.9420e-01  3.3868e-01\n",
      "  2.2977e-01  1.8140e-01  1.0883e-01  1.7017e-01  7.6846e-01  3.4372e-01\n",
      "  1.7054e-01]\n",
      "Reward value: -52.83067373499797\n",
      "Is Done: True\n",
      "The overall info: dict_keys(['time', 'rwd_dense', 'rwd_sparse', 'solved', 'done', 'obs_dict', 'visual_dict', 'proprio_dict', 'rwd_dict', 'state', 'TimeLimit.truncated'])\n",
      "Info contained contained the info['state']: [[-1.6500e-01 -5.3700e-01  1.4950e+00]\n",
      " [-1.5602e-01 -5.4534e-01  1.4568e+00]\n",
      " [-1.6440e-01 -5.4478e-01  1.4477e+00]\n",
      " ...\n",
      " [-2.0000e-03 -7.0000e-03  0.0000e+00]\n",
      " [-2.3000e-03 -3.3000e-03  6.0000e-04]\n",
      " [ 5.0000e-01  5.0000e-01  0.0000e+00]]\n"
     ]
    }
   ],
   "source": [
    "# random value as an action\n",
    "action = env.action_space.sample()\n",
    "\n",
    "observation_state, reward, done, info = env.step(action)\n",
    "\n",
    "# myoElbowPose1D6MRandom-v0 is a pose-type task\n",
    "# see definition here https://github.com/facebookresearch/myosuite/blob/1d45e4d5603a70487355902450006d3bd7828d43/myosuite/envs/myo/pose_v0.py#L89\n",
    "\n",
    "print(f\"Observation dimension {len(observation_state)}\")\n",
    "# Observation is composed of: qpos [1], qvel [1], act [6], pose_err [1]\n",
    "print(f\"Observation values: {observation_state}\")\n",
    "\n",
    "# Information about the task reward\n",
    "print(f\"Reward value: {reward}\")\n",
    "\n",
    "# Flag to check if the task is done\n",
    "print(f\"Is Done: {done}\")\n",
    "\n",
    "# All the info relative to the environment i.e. reward (dense/sparse), task is solved, ...\n",
    "print(f\"The overall info: {info.keys()}\")\n",
    "# Specifically, the information relative to the state\n",
    "print(f\"Info contained contained the info['state']: {info['state']['site_pos']}\")\n"
   ]
  },
  {
   "cell_type": "markdown",
   "metadata": {},
   "source": [
    "### Change Tasks targets"
   ]
  },
  {
   "cell_type": "code",
   "execution_count": null,
   "metadata": {},
   "outputs": [
    {
     "ename": "UnregisteredEnv",
     "evalue": "No registered env with id: myoArmPRandom-v0",
     "output_type": "error",
     "traceback": [
      "\u001b[1;31m---------------------------------------------------------------------------\u001b[0m",
      "\u001b[1;31mKeyError\u001b[0m                                  Traceback (most recent call last)",
      "File \u001b[1;32mc:\\Users\\Elyas\\anaconda3\\envs\\myosuite\\lib\\site-packages\\gym\\envs\\registration.py:132\u001b[0m, in \u001b[0;36mEnvRegistry.spec\u001b[1;34m(self, path)\u001b[0m\n\u001b[0;32m    131\u001b[0m \u001b[38;5;28;01mtry\u001b[39;00m:\n\u001b[1;32m--> 132\u001b[0m     \u001b[38;5;28;01mreturn\u001b[39;00m \u001b[38;5;28;43mself\u001b[39;49m\u001b[38;5;241;43m.\u001b[39;49m\u001b[43menv_specs\u001b[49m\u001b[43m[\u001b[49m\u001b[38;5;28;43mid\u001b[39;49m\u001b[43m]\u001b[49m\n\u001b[0;32m    133\u001b[0m \u001b[38;5;28;01mexcept\u001b[39;00m \u001b[38;5;167;01mKeyError\u001b[39;00m:\n\u001b[0;32m    134\u001b[0m     \u001b[38;5;66;03m# Parse the env name and check to see if it matches the non-version\u001b[39;00m\n\u001b[0;32m    135\u001b[0m     \u001b[38;5;66;03m# part of a valid env (could also check the exact number here)\u001b[39;00m\n",
      "\u001b[1;31mKeyError\u001b[0m: 'myoArmPRandom-v0'",
      "\nDuring handling of the above exception, another exception occurred:\n",
      "\u001b[1;31mUnregisteredEnv\u001b[0m                           Traceback (most recent call last)",
      "Cell \u001b[1;32mIn[5], line 1\u001b[0m\n\u001b[1;32m----> 1\u001b[0m env_fix \u001b[38;5;241m=\u001b[39m \u001b[43mgym\u001b[49m\u001b[38;5;241;43m.\u001b[39;49m\u001b[43mmake\u001b[49m\u001b[43m(\u001b[49m\u001b[38;5;124;43m'\u001b[39;49m\u001b[38;5;124;43mmyoArmPRandom-v0\u001b[39;49m\u001b[38;5;124;43m'\u001b[39;49m\u001b[43m)\u001b[49m\n\u001b[0;32m      2\u001b[0m env_rand \u001b[38;5;241m=\u001b[39m gym\u001b[38;5;241m.\u001b[39mmake(\u001b[38;5;124m'\u001b[39m\u001b[38;5;124mmyoArmReachRandom-v0\u001b[39m\u001b[38;5;124m'\u001b[39m)\n\u001b[0;32m      4\u001b[0m \u001b[38;5;28;01mfor\u001b[39;00m ep \u001b[38;5;129;01min\u001b[39;00m \u001b[38;5;28mrange\u001b[39m(\u001b[38;5;241m10\u001b[39m):\n",
      "File \u001b[1;32mc:\\Users\\Elyas\\anaconda3\\envs\\myosuite\\lib\\site-packages\\gym\\envs\\registration.py:156\u001b[0m, in \u001b[0;36mmake\u001b[1;34m(id, **kwargs)\u001b[0m\n\u001b[0;32m    155\u001b[0m \u001b[38;5;28;01mdef\u001b[39;00m \u001b[38;5;21mmake\u001b[39m(\u001b[38;5;28mid\u001b[39m, \u001b[38;5;241m*\u001b[39m\u001b[38;5;241m*\u001b[39mkwargs):\n\u001b[1;32m--> 156\u001b[0m     \u001b[38;5;28;01mreturn\u001b[39;00m \u001b[43mregistry\u001b[49m\u001b[38;5;241;43m.\u001b[39;49m\u001b[43mmake\u001b[49m\u001b[43m(\u001b[49m\u001b[38;5;28;43mid\u001b[39;49m\u001b[43m,\u001b[49m\u001b[43m \u001b[49m\u001b[38;5;241;43m*\u001b[39;49m\u001b[38;5;241;43m*\u001b[39;49m\u001b[43mkwargs\u001b[49m\u001b[43m)\u001b[49m\n",
      "File \u001b[1;32mc:\\Users\\Elyas\\anaconda3\\envs\\myosuite\\lib\\site-packages\\gym\\envs\\registration.py:100\u001b[0m, in \u001b[0;36mEnvRegistry.make\u001b[1;34m(self, path, **kwargs)\u001b[0m\n\u001b[0;32m     98\u001b[0m \u001b[38;5;28;01melse\u001b[39;00m:\n\u001b[0;32m     99\u001b[0m     logger\u001b[38;5;241m.\u001b[39minfo(\u001b[38;5;124m'\u001b[39m\u001b[38;5;124mMaking new env: \u001b[39m\u001b[38;5;132;01m%s\u001b[39;00m\u001b[38;5;124m'\u001b[39m, path)\n\u001b[1;32m--> 100\u001b[0m spec \u001b[38;5;241m=\u001b[39m \u001b[38;5;28;43mself\u001b[39;49m\u001b[38;5;241;43m.\u001b[39;49m\u001b[43mspec\u001b[49m\u001b[43m(\u001b[49m\u001b[43mpath\u001b[49m\u001b[43m)\u001b[49m\n\u001b[0;32m    101\u001b[0m env \u001b[38;5;241m=\u001b[39m spec\u001b[38;5;241m.\u001b[39mmake(\u001b[38;5;241m*\u001b[39m\u001b[38;5;241m*\u001b[39mkwargs)\n\u001b[0;32m    102\u001b[0m \u001b[38;5;66;03m# We used to have people override _reset/_step rather than\u001b[39;00m\n\u001b[0;32m    103\u001b[0m \u001b[38;5;66;03m# reset/step. Set _gym_disable_underscore_compat = True on\u001b[39;00m\n\u001b[0;32m    104\u001b[0m \u001b[38;5;66;03m# your environment if you use these methods and don't want\u001b[39;00m\n\u001b[0;32m    105\u001b[0m \u001b[38;5;66;03m# compatibility code to be invoked.\u001b[39;00m\n",
      "File \u001b[1;32mc:\\Users\\Elyas\\anaconda3\\envs\\myosuite\\lib\\site-packages\\gym\\envs\\registration.py:142\u001b[0m, in \u001b[0;36mEnvRegistry.spec\u001b[1;34m(self, path)\u001b[0m\n\u001b[0;32m    140\u001b[0m     \u001b[38;5;28;01mraise\u001b[39;00m error\u001b[38;5;241m.\u001b[39mDeprecatedEnv(\u001b[38;5;124m'\u001b[39m\u001b[38;5;124mEnv \u001b[39m\u001b[38;5;132;01m{}\u001b[39;00m\u001b[38;5;124m not found (valid versions include \u001b[39m\u001b[38;5;132;01m{}\u001b[39;00m\u001b[38;5;124m)\u001b[39m\u001b[38;5;124m'\u001b[39m\u001b[38;5;241m.\u001b[39mformat(\u001b[38;5;28mid\u001b[39m, matching_envs))\n\u001b[0;32m    141\u001b[0m \u001b[38;5;28;01melse\u001b[39;00m:\n\u001b[1;32m--> 142\u001b[0m     \u001b[38;5;28;01mraise\u001b[39;00m error\u001b[38;5;241m.\u001b[39mUnregisteredEnv(\u001b[38;5;124m'\u001b[39m\u001b[38;5;124mNo registered env with id: \u001b[39m\u001b[38;5;132;01m{}\u001b[39;00m\u001b[38;5;124m'\u001b[39m\u001b[38;5;241m.\u001b[39mformat(\u001b[38;5;28mid\u001b[39m))\n",
      "\u001b[1;31mUnregisteredEnv\u001b[0m: No registered env with id: myoArmPRandom-v0"
     ]
    }
   ],
   "source": [
    "env_fix = gym.make('myoArmPRandom-v0')\n",
    "env_rand = gym.make('myoArmReachRandom-v0')\n",
    "\n",
    "for ep in range(10):\n",
    "  env_fix.reset()\n",
    "  print(f\"Episode {ep}, target: {env_fix.env.target_reach_range}\")\n",
    "\n",
    "for ep in range(10):\n",
    "  env_rand.reset()\n",
    "  print(f\"Episode {ep}, target: {env_rand.env.target_reach_range}\")\n"
   ]
  },
  {
   "cell_type": "markdown",
   "metadata": {},
   "source": [
    "### POSEV0\n"
   ]
  },
  {
   "cell_type": "code",
   "execution_count": null,
   "metadata": {},
   "outputs": [
    {
     "ename": "",
     "evalue": "",
     "output_type": "error",
     "traceback": [
      "\u001b[1;31mThe Kernel crashed while executing code in the current cell or a previous cell. \n",
      "\u001b[1;31mPlease review the code in the cell(s) to identify a possible cause of the failure. \n",
      "\u001b[1;31mClick <a href='https://aka.ms/vscodeJupyterKernelCrash'>here</a> for more info. \n",
      "\u001b[1;31mView Jupyter <a href='command:jupyter.viewOutput'>log</a> for further details."
     ]
    }
   ],
   "source": [
    "import myosuite\n",
    "import gym\n",
    "import time\n",
    "\n",
    "\n",
    "env = gym.make('myoHandReachFixed-v0')\n",
    "env.reset()\n",
    "for _ in range(1000):\n",
    "    env.mj_render()\n",
    "    env.step(env.action_space.sample())\n",
    "    env.reset()"
   ]
  },
  {
   "cell_type": "code",
   "execution_count": null,
   "metadata": {},
   "outputs": [],
   "source": [
    "# random value as an action\n",
    "action = env.action_space.sample()\n",
    "\n",
    "observation_state, reward, done, info = env.step(action)\n",
    "\n",
    "# myoElbowPose1D6MRandom-v0 is a pose-type task\n",
    "# see definition here https://github.com/facebookresearch/myosuite/blob/1d45e4d5603a70487355902450006d3bd7828d43/myosuite/envs/myo/pose_v0.py#L89\n",
    "\n",
    "print(f\"Observation dimension {len(observation_state)}\")\n",
    "# Observation is composed of: qpos [1], qvel [1], act [6], pose_err [1]\n",
    "print(f\"Observation values: {observation_state}\")\n",
    "\n",
    "# Information about the task reward\n",
    "print(f\"Reward value: {reward}\")\n",
    "\n",
    "# Flag to check if the task is done\n",
    "print(f\"Is Done: {done}\")\n",
    "\n",
    "# All the info relative to the environment i.e. reward (dense/sparse), task is solved, ...\n",
    "print(f\"The overall info: {info.keys()}\")\n",
    "# Specifically, the information relative to the state\n",
    "print(f\"Info contained contained the info['state']: {info['state']['site_pos']}\")\n"
   ]
  },
  {
   "cell_type": "code",
   "execution_count": null,
   "metadata": {},
   "outputs": [
    {
     "ename": "UnregisteredEnv",
     "evalue": "No registered env with id: myoArmPoseFixed-v0",
     "output_type": "error",
     "traceback": [
      "\u001b[1;31m---------------------------------------------------------------------------\u001b[0m",
      "\u001b[1;31mKeyError\u001b[0m                                  Traceback (most recent call last)",
      "File \u001b[1;32mc:\\Users\\Elyas\\anaconda3\\envs\\myosuite\\lib\\site-packages\\gym\\envs\\registration.py:132\u001b[0m, in \u001b[0;36mEnvRegistry.spec\u001b[1;34m(self, path)\u001b[0m\n\u001b[0;32m    131\u001b[0m \u001b[38;5;28;01mtry\u001b[39;00m:\n\u001b[1;32m--> 132\u001b[0m     \u001b[38;5;28;01mreturn\u001b[39;00m \u001b[38;5;28;43mself\u001b[39;49m\u001b[38;5;241;43m.\u001b[39;49m\u001b[43menv_specs\u001b[49m\u001b[43m[\u001b[49m\u001b[38;5;28;43mid\u001b[39;49m\u001b[43m]\u001b[49m\n\u001b[0;32m    133\u001b[0m \u001b[38;5;28;01mexcept\u001b[39;00m \u001b[38;5;167;01mKeyError\u001b[39;00m:\n\u001b[0;32m    134\u001b[0m     \u001b[38;5;66;03m# Parse the env name and check to see if it matches the non-version\u001b[39;00m\n\u001b[0;32m    135\u001b[0m     \u001b[38;5;66;03m# part of a valid env (could also check the exact number here)\u001b[39;00m\n",
      "\u001b[1;31mKeyError\u001b[0m: 'myoArmPoseFixed-v0'",
      "\nDuring handling of the above exception, another exception occurred:\n",
      "\u001b[1;31mUnregisteredEnv\u001b[0m                           Traceback (most recent call last)",
      "Cell \u001b[1;32mIn[6], line 2\u001b[0m\n\u001b[0;32m      1\u001b[0m \u001b[38;5;66;03m# Only for Elbow, test different posture\u001b[39;00m\n\u001b[1;32m----> 2\u001b[0m env \u001b[38;5;241m=\u001b[39m \u001b[43mgym\u001b[49m\u001b[38;5;241;43m.\u001b[39;49m\u001b[43mmake\u001b[49m\u001b[43m(\u001b[49m\u001b[38;5;124;43m'\u001b[39;49m\u001b[38;5;124;43mmyoArmPoseFixed-v0\u001b[39;49m\u001b[38;5;124;43m'\u001b[39;49m\u001b[43m)\u001b[49m\n\u001b[0;32m      3\u001b[0m \u001b[38;5;66;03m# Sequence of test angles\u001b[39;00m\n\u001b[0;32m      4\u001b[0m AngleSequence \u001b[38;5;241m=\u001b[39m [\u001b[38;5;241m60\u001b[39m, \u001b[38;5;241m0\u001b[39m, \u001b[38;5;241m80\u001b[39m, \u001b[38;5;241m30\u001b[39m]\n",
      "File \u001b[1;32mc:\\Users\\Elyas\\anaconda3\\envs\\myosuite\\lib\\site-packages\\gym\\envs\\registration.py:156\u001b[0m, in \u001b[0;36mmake\u001b[1;34m(id, **kwargs)\u001b[0m\n\u001b[0;32m    155\u001b[0m \u001b[38;5;28;01mdef\u001b[39;00m \u001b[38;5;21mmake\u001b[39m(\u001b[38;5;28mid\u001b[39m, \u001b[38;5;241m*\u001b[39m\u001b[38;5;241m*\u001b[39mkwargs):\n\u001b[1;32m--> 156\u001b[0m     \u001b[38;5;28;01mreturn\u001b[39;00m \u001b[43mregistry\u001b[49m\u001b[38;5;241;43m.\u001b[39;49m\u001b[43mmake\u001b[49m\u001b[43m(\u001b[49m\u001b[38;5;28;43mid\u001b[39;49m\u001b[43m,\u001b[49m\u001b[43m \u001b[49m\u001b[38;5;241;43m*\u001b[39;49m\u001b[38;5;241;43m*\u001b[39;49m\u001b[43mkwargs\u001b[49m\u001b[43m)\u001b[49m\n",
      "File \u001b[1;32mc:\\Users\\Elyas\\anaconda3\\envs\\myosuite\\lib\\site-packages\\gym\\envs\\registration.py:100\u001b[0m, in \u001b[0;36mEnvRegistry.make\u001b[1;34m(self, path, **kwargs)\u001b[0m\n\u001b[0;32m     98\u001b[0m \u001b[38;5;28;01melse\u001b[39;00m:\n\u001b[0;32m     99\u001b[0m     logger\u001b[38;5;241m.\u001b[39minfo(\u001b[38;5;124m'\u001b[39m\u001b[38;5;124mMaking new env: \u001b[39m\u001b[38;5;132;01m%s\u001b[39;00m\u001b[38;5;124m'\u001b[39m, path)\n\u001b[1;32m--> 100\u001b[0m spec \u001b[38;5;241m=\u001b[39m \u001b[38;5;28;43mself\u001b[39;49m\u001b[38;5;241;43m.\u001b[39;49m\u001b[43mspec\u001b[49m\u001b[43m(\u001b[49m\u001b[43mpath\u001b[49m\u001b[43m)\u001b[49m\n\u001b[0;32m    101\u001b[0m env \u001b[38;5;241m=\u001b[39m spec\u001b[38;5;241m.\u001b[39mmake(\u001b[38;5;241m*\u001b[39m\u001b[38;5;241m*\u001b[39mkwargs)\n\u001b[0;32m    102\u001b[0m \u001b[38;5;66;03m# We used to have people override _reset/_step rather than\u001b[39;00m\n\u001b[0;32m    103\u001b[0m \u001b[38;5;66;03m# reset/step. Set _gym_disable_underscore_compat = True on\u001b[39;00m\n\u001b[0;32m    104\u001b[0m \u001b[38;5;66;03m# your environment if you use these methods and don't want\u001b[39;00m\n\u001b[0;32m    105\u001b[0m \u001b[38;5;66;03m# compatibility code to be invoked.\u001b[39;00m\n",
      "File \u001b[1;32mc:\\Users\\Elyas\\anaconda3\\envs\\myosuite\\lib\\site-packages\\gym\\envs\\registration.py:142\u001b[0m, in \u001b[0;36mEnvRegistry.spec\u001b[1;34m(self, path)\u001b[0m\n\u001b[0;32m    140\u001b[0m     \u001b[38;5;28;01mraise\u001b[39;00m error\u001b[38;5;241m.\u001b[39mDeprecatedEnv(\u001b[38;5;124m'\u001b[39m\u001b[38;5;124mEnv \u001b[39m\u001b[38;5;132;01m{}\u001b[39;00m\u001b[38;5;124m not found (valid versions include \u001b[39m\u001b[38;5;132;01m{}\u001b[39;00m\u001b[38;5;124m)\u001b[39m\u001b[38;5;124m'\u001b[39m\u001b[38;5;241m.\u001b[39mformat(\u001b[38;5;28mid\u001b[39m, matching_envs))\n\u001b[0;32m    141\u001b[0m \u001b[38;5;28;01melse\u001b[39;00m:\n\u001b[1;32m--> 142\u001b[0m     \u001b[38;5;28;01mraise\u001b[39;00m error\u001b[38;5;241m.\u001b[39mUnregisteredEnv(\u001b[38;5;124m'\u001b[39m\u001b[38;5;124mNo registered env with id: \u001b[39m\u001b[38;5;132;01m{}\u001b[39;00m\u001b[38;5;124m'\u001b[39m\u001b[38;5;241m.\u001b[39mformat(\u001b[38;5;28mid\u001b[39m))\n",
      "\u001b[1;31mUnregisteredEnv\u001b[0m: No registered env with id: myoArmPoseFixed-v0"
     ]
    }
   ],
   "source": [
    "# Only for Elbow, test different posture\n",
    "env = gym.make('myoArmPoseFixed-v0')\n",
    "# Sequence of test angles\n",
    "AngleSequence = [60, 0, 80, 30]\n",
    "# Flag to enable a sequence of different fixed targets\n",
    "env.env.target_type = 'fixed'\n",
    "\n",
    "env.reset()\n",
    "frames = []\n",
    "for ep in range(len(AngleSequence)):\n",
    "    print(\"Ep {} of {} testing angle {}\".format(ep, len(AngleSequence), AngleSequence[ep]))\n",
    "\n",
    "    # Set the new target value\n",
    "    env.env.target_jnt_value = [np.deg2rad(AngleSequence[int(ep)])]\n",
    "    # Update the target value\n",
    "    env.env.update_target()\n",
    "\n",
    "    for _ in range(20):\n",
    "        frames.append(env.sim.renderer.render_offscreen(\n",
    "                        width=400,\n",
    "                        height=400,\n",
    "                        camera_id=0))\n",
    "        o = env.get_obs()\n",
    "        a = pi.get_action(o)[0]\n",
    "        next_o, r, done, _ = env.step(a) # take an action based on the current observation\n",
    "env.close()\n",
    "\n",
    "os.makedirs('videos', exist_ok=True)\n",
    "# make a local copy\n",
    "skvideo.io.vwrite('videos/arm.mp4', np.asarray(frames),outputdict={\"-pix_fmt\": \"yuv420p\"})\n",
    "show_video('videos/arm.mp4')"
   ]
  },
  {
   "cell_type": "markdown",
   "metadata": {},
   "source": [
    "### Moves Arm Model by changing actuator intensity \n",
    "//==============================================="
   ]
  },
  {
   "cell_type": "code",
   "execution_count": null,
   "metadata": {},
   "outputs": [
    {
     "name": "stdout",
     "output_type": "stream",
     "text": [
      "\u001b[36m    MyoSuite: A contact-rich simulation suite for musculoskeletal motor control\n",
      "        Vittorio Caggiano, Huawei Wang, Guillaume Durandau, Massimo Sartori, Vikash Kumar\n",
      "        L4DC-2019 | https://sites.google.com/view/myosuite\n",
      "    \u001b[0m\n",
      "Muscles:\n",
      "[0, 'DELT1']\n",
      "[1, 'DELT2']\n",
      "[2, 'DELT3']\n",
      "[3, 'SUPSP']\n",
      "[4, 'INFSP']\n",
      "[5, 'SUBSC']\n",
      "[6, 'TMIN']\n",
      "[7, 'TMAJ']\n",
      "[8, 'PECM1']\n",
      "[9, 'PECM2']\n",
      "[10, 'PECM3']\n",
      "[11, 'LAT1']\n",
      "[12, 'LAT2']\n",
      "[13, 'LAT3']\n",
      "[14, 'CORB']\n",
      "[15, 'TRIlong']\n",
      "[16, 'TRIlat']\n",
      "[17, 'TRImed']\n",
      "[18, 'ANC']\n",
      "[19, 'SUP']\n",
      "[20, 'BIClong']\n",
      "[21, 'BICshort']\n",
      "[22, 'BRA']\n",
      "[23, 'BRD']\n",
      "[24, 'ECRL']\n",
      "[25, 'ECRB']\n",
      "[26, 'ECU']\n",
      "[27, 'FCR']\n",
      "[28, 'FCU']\n",
      "[29, 'PL']\n",
      "[30, 'PT']\n",
      "[31, 'PQ']\n",
      "[32, 'FDS5']\n",
      "[33, 'FDS4']\n",
      "[34, 'FDS3']\n",
      "[35, 'FDS2']\n",
      "[36, 'FDP5']\n",
      "[37, 'FDP4']\n",
      "[38, 'FDP3']\n",
      "[39, 'FDP2']\n",
      "[40, 'EDC5']\n",
      "[41, 'EDC4']\n",
      "[42, 'EDC3']\n",
      "[43, 'EDC2']\n",
      "[44, 'EDM']\n",
      "[45, 'EIP']\n",
      "[46, 'EPL']\n",
      "[47, 'EPB']\n",
      "[48, 'FPL']\n",
      "[49, 'APL']\n",
      "[50, 'OP']\n",
      "[51, 'RI2']\n",
      "[52, 'LU_RB2']\n",
      "[53, 'UI_UB2']\n",
      "[54, 'RI3']\n",
      "[55, 'LU_RB3']\n",
      "[56, 'UI_UB3']\n",
      "[57, 'RI4']\n",
      "[58, 'LU_RB4']\n",
      "[59, 'UI_UB4']\n",
      "[60, 'RI5']\n",
      "[61, 'LU_RB5']\n",
      "[62, 'UI_UB5']\n",
      "\n",
      "Joints:\n",
      "[0, 'sternoclavicular_r2']\n",
      "[1, 'sternoclavicular_r3']\n",
      "[2, 'unrotscap_r3']\n",
      "[3, 'unrotscap_r2']\n",
      "[4, 'acromioclavicular_r2']\n",
      "[5, 'acromioclavicular_r3']\n",
      "[6, 'acromioclavicular_r1']\n",
      "[7, 'unrothum_r1']\n",
      "[8, 'unrothum_r3']\n",
      "[9, 'unrothum_r2']\n",
      "[10, 'elv_angle']\n",
      "[11, 'shoulder_elv']\n",
      "[12, 'shoulder1_r2']\n",
      "[13, 'shoulder_rot']\n",
      "[14, 'elbow_flexion']\n",
      "[15, 'pro_sup']\n",
      "[16, 'deviation']\n",
      "[17, 'flexion']\n",
      "[18, 'cmc_abduction']\n",
      "[19, 'cmc_flexion']\n",
      "[20, 'mp_flexion']\n",
      "[21, 'ip_flexion']\n",
      "[22, 'mcp2_flexion']\n",
      "[23, 'mcp2_abduction']\n",
      "[24, 'pm2_flexion']\n",
      "[25, 'md2_flexion']\n",
      "[26, 'mcp3_flexion']\n",
      "[27, 'mcp3_abduction']\n",
      "[28, 'pm3_flexion']\n",
      "[29, 'md3_flexion']\n",
      "[30, 'mcp4_flexion']\n",
      "[31, 'mcp4_abduction']\n",
      "[32, 'pm4_flexion']\n",
      "[33, 'md4_flexion']\n",
      "[34, 'mcp5_flexion']\n",
      "[35, 'mcp5_abduction']\n",
      "[36, 'pm5_flexion']\n",
      "[37, 'md5_flexion']\n"
     ]
    }
   ],
   "source": [
    "\n",
    "env = gym.make('ArmReachFixed-v0', normalize_act = False) #Change the task depending on what model/environment you want to use\n",
    "\n",
    "env.reset()\n",
    "\n",
    "env.env.init_qpos[:] = np.zeros(len(env.env.init_qpos),)\n",
    "mjcModel = env.sim.model\n",
    "\n",
    "print(\"Muscles:\")\n",
    "for i in range(mjcModel.na):\n",
    "     a = print([i,mjcModel.actuator(i).name])\n",
    "\n",
    "print(\"\\nJoints:\")\n",
    "for i in range(mjcModel.njnt):\n",
    "     b = print([i,mjcModel.joint(i).name])"
   ]
  },
  {
   "cell_type": "markdown",
   "metadata": {},
   "source": [
    "<h2> Changing actuator activation levels for movement </h2>"
   ]
  },
  {
   "cell_type": "code",
   "execution_count": null,
   "metadata": {},
   "outputs": [
    {
     "name": "stdout",
     "output_type": "stream",
     "text": [
      "[11]\n",
      "500\n",
      "iteration: 0\n",
      "iteration: 1\n",
      "iteration: 2\n",
      "iteration: 3\n",
      "iteration: 4\n"
     ]
    },
    {
     "data": {
      "text/html": [],
      "text/plain": [
       "<IPython.core.display.HTML object>"
      ]
     },
     "execution_count": 7,
     "metadata": {},
     "output_type": "execute_result"
    }
   ],
   "source": [
    "\n",
    "musc_fe = [mjcModel.actuator('LAT1').id] #Appends id values of actuators to list (Change depending on desired movement)\n",
    "print(musc_fe)\n",
    "L_range = round(1/mjcModel.opt.timestep) \n",
    "print(L_range)\n",
    "skip_frame = 50\n",
    "\n",
    "\n",
    "frames_sim = []\n",
    "for iter_n in range(5):\n",
    "    print(\"iteration: \"+str(iter_n))\n",
    "    res_sim = []\n",
    "    act_val = 0\n",
    "    ctrl = np.zeros(mjcModel.na,)\n",
    "    for rp in range(10): \n",
    "        ctrl[musc_fe[0]] = 0\n",
    "        increment = 1/L_range\n",
    "        for s in range(L_range):\n",
    "            if not(s%skip_frame):\n",
    "                frame = env.sim.renderer.render_offscreen(\n",
    "                                width=400,\n",
    "                                height=400,\n",
    "                                camera_id=0) #Arm Model context: id=0 (side cam) id = 1 (far front) , id  = 2 and 3 (close view front/back)\n",
    "                frames_sim.append(frame)\n",
    "            \n",
    "            ctrl = np.zeros(mjcModel.na,)\n",
    "            act_val =+ increment\n",
    "            ctrl[musc_fe[0]] = act_val+increment                  \n",
    "            env.step(ctrl)\n",
    "\n",
    "os.makedirs('videos', exist_ok=True)\n",
    "video_path = 'videos/test_policy.mp4'\n",
    "\n",
    "\n",
    "imageio.mimsave(video_path, frames_sim, fps=30)\n",
    "\n",
    "show_video(video_path)\n"
   ]
  },
  {
   "cell_type": "markdown",
   "metadata": {},
   "source": []
  },
  {
   "cell_type": "markdown",
   "metadata": {},
   "source": []
  }
 ],
 "metadata": {
  "kernelspec": {
   "display_name": "Python 3",
   "language": "python",
   "name": "python3"
  },
  "language_info": {
   "codemirror_mode": {
    "name": "ipython",
    "version": 3
   },
   "file_extension": ".py",
   "mimetype": "text/x-python",
   "name": "python",
   "nbconvert_exporter": "python",
   "pygments_lexer": "ipython3",
   "version": "3.8.18"
  }
 },
 "nbformat": 4,
 "nbformat_minor": 2
}
